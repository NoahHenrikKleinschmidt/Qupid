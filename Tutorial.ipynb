{
 "cells": [
  {
   "cell_type": "markdown",
   "metadata": {},
   "source": [
    "# <img src=\"./tiny.svg\" width=\"31\"> Qupid\n",
    "\n",
    "##  <font style=\"color:rgb(255, 82, 88)\">Qu</font>antitative <font style=\"color:rgb(255, 82, 88)\">P</font>CR <font style=\"color:rgb(255, 82, 88)\">I</font>nterface to <font style=\"color:rgb(255, 82, 88)\">D</font>elta-Delta-Ct\n"
   ]
  },
  {
   "cell_type": "markdown",
   "metadata": {},
   "source": [
    "In this tutorial we shall briefly introduce the interface of `Qupid`."
   ]
  },
  {
   "cell_type": "markdown",
   "metadata": {},
   "source": [
    "## 1. Layout\n",
    "----------------------------------------------------------------"
   ]
  },
  {
   "cell_type": "markdown",
   "metadata": {},
   "source": [
    "Qupid offers essentially a two-section layout, with an upper part for `File Upload` and a lower part for `Delta-Delta-Ct Analysis`. The lower part will only appear once input data has been provided. \n",
    "\n",
    "Both parts offer control interfaces within expandable containers to reduce \"noisy\" layouts as much as possible."
   ]
  },
  {
   "cell_type": "markdown",
   "metadata": {},
   "source": [
    "![](./.resources/layout_upper.png)\n",
    "![](./.resources/layout_lower.png)"
   ]
  },
  {
   "cell_type": "markdown",
   "metadata": {},
   "source": [
    "## 2. Uploading Data\n",
    "----------------------------------------------------------------\n",
    "\n",
    "Qupid supports all datafile types supported by the <a href = \"https://github.com/NoahHenrikKleinschmidt/qpcr.git\">qpcr python module</a> with the exception of \"irregular\" single-assay datafiles. Check out the [Getting Started Tutorial](https://github.com/NoahHenrikKleinschmidt/qpcr/blob/main/Examples/0_getting_started.ipynb) of the `qpcr` module to learn about the accepted types of input datafiles."
   ]
  },
  {
   "cell_type": "markdown",
   "metadata": {},
   "source": [
    "Qupid offers three separate methods to upload its accepted data inputs. We shall go over each one individually. You can specify an input method, provide details on how to read your file, and subsequently hit the `Read my File(s)` button."
   ]
  },
  {
   "cell_type": "markdown",
   "metadata": {},
   "source": [
    "### 2.1 Uploading single-assay datafiles\n",
    "\n",
    "If you have your assays (or just generally your \"datasets\") stored already in separate files, then you can simply upload a number of files for your \"assays-of-interest\" (henceforth just called \"assays\") and then some others for your \"normaliser assays\" (henceforth just called \"normalisers\"). \n",
    "\n",
    "You can choose this type of Data Input by clicking on the first button to the left labeled `Upload multiple Files`. \n",
    "\n",
    "> In this case your files **must** all be identically structured! That means, same filetype (csv or excel) and same numbers of columns etc. "
   ]
  },
  {
   "cell_type": "markdown",
   "metadata": {},
   "source": [
    "![](./.resources/single_assay_1.png)"
   ]
  },
  {
   "cell_type": "markdown",
   "metadata": {},
   "source": [
    "Once the input form has rendered, you can drag&drop your desired files into the two provided upload windows. We will next discuss the various elements that you may encounter when uploading your files here. Note that most of these will also appear in the other types of inputs!\n",
    "\n",
    "#### Infer Replicates\n",
    "If your replicates are identically labelled (i.e. `ctrl, ctrl, ctrl` and not `ctrl1, ctrl2, ctrl3`) then Qupid will be able to interpret your data organisation automatically. However, if this is not possible, or you wish to use a specific arrangement, you can manually specify replicate information. Simply uncheck the `Infer replicates` box and new inputs will appear asking you to provide the number of entries in each _replicate group_ (likely your different qPCR samples).If the terms `replicates` and `groups` are alien to you, check out [this paragraph](https://noahhenrikkleinschmidt.github.io/qpcr/index.html#replicates) from the `qpcr` documentation that should make things clear.\n",
    "\n",
    "> When manually specifying replicate groups, you can also specify arbitrary text-labels to your groups. Note, that when manually specifying the replicate information then really **all** assays have to have identical entries (if one has a diluent sample but the other does not, then this will be unreadable!). Qupid is more forgiving for `inferred` replicates, but unequal groups will lead to data-loss downstream! If you know the replicate groups that are uncommon are not important to you (like the diluent) you can go ahead with your analysis, but this is not advised. It is considered better to introduce dummy entries (with `NaN` Ct values for instance) for any group that is not shared among all assays."
   ]
  },
  {
   "cell_type": "markdown",
   "metadata": {},
   "source": [
    "![](./.resources/replicates_infer.png)\n",
    "\n",
    "<br>\n",
    "\n",
    "![](./.resources/replicates.png)"
   ]
  },
  {
   "cell_type": "markdown",
   "metadata": {},
   "source": [
    "#### Data Columns\n",
    "Qupid is interested in two data columns: one for replicate identifiers and one for Ct values. If your file contains **exactly** two columns, then these will be interpreted as `id` (1st!) and `Ct` (2nd!) directly. However, if your file contains more than two columns Qupid will ask you to provide the column names where your ids and Ct values are stored. "
   ]
  },
  {
   "cell_type": "markdown",
   "metadata": {},
   "source": [
    "![](./.resources/data_cols.png)"
   ]
  },
  {
   "cell_type": "markdown",
   "metadata": {},
   "source": [
    "#### Csv Delimiter\n",
    "\n",
    "Some `csv` files use a semicolon `;` instead of a comma `,` do separate cells from each other. \n",
    "If you upload a `csv` file Qupid will ask you to specify which delmiter your file uses.\n"
   ]
  },
  {
   "cell_type": "markdown",
   "metadata": {},
   "source": [
    "![](./.resources/csv_delim.png)"
   ]
  },
  {
   "cell_type": "markdown",
   "metadata": {},
   "source": [
    "### 2.2 Uplading a single multi-assay datafile\n",
    "The second option is pretty diverse. You can upload one single datafile that contains mulitple datasets you wish to include in your analysis. This \"multi-assay\" datafile can either be a `csv` file, a single-sheet `excel` , or multi-sheet `excel` file. In order for this input to be readable the assays **need to be decorated**. Check out the [Decorator Tutorial](https://github.com/NoahHenrikKleinschmidt/qpcr/blob/main/Examples/8_decorating_datafiles.ipynb) to learn how to add decorators to your multi-assay datafiles.\n",
    "\n",
    "You can select this type of data input by clicking on the second button to the left, and the drag&drop your desired datafile into the upload field that pops up. Notice how the `Infer replicates` checkbox from before is also present again? Also note that for multi-assay files it is assumed that there are multiple data-columns, so an input for column headers storing replicate identifiers and Ct values is required!"
   ]
  },
  {
   "cell_type": "markdown",
   "metadata": {},
   "source": [
    "![](./.resources/multi_assay_1.png)"
   ]
  },
  {
   "cell_type": "markdown",
   "metadata": {},
   "source": [
    "#### Transposed files\n",
    "\n",
    "By default separate assay tables are below one another and separated by blank lines. However, it is also possible to read datafiles where separate assays are next to one another. In this case, hit the `Read transposed` checkbox. If you checked out the [Decorator Tutorial](https://github.com/NoahHenrikKleinschmidt/qpcr/blob/main/Examples/8_decorating_datafiles.ipynb) you will have seen an example of _transposed_ datafile."
   ]
  },
  {
   "cell_type": "markdown",
   "metadata": {},
   "source": [
    "![](./.resources/transposed.png)"
   ]
  },
  {
   "cell_type": "markdown",
   "metadata": {},
   "source": [
    "#### Assay patterns and the Assay column\n",
    "These two are important! When you look at your datafiles, the cell content of your \"assay header\" may not only contain the actual name of the assay but other things as well. For instance, Qiagen's Rotor-Gene produces files that store the assay headers as \"Quantitative analysis of A.{color} ({assay})\". \n",
    "Now, the analysis would work just as well by taking all of this as assay name (this is the default settings \"all\" ), but it's usually much nicer to remove the unnecessary parts. To that end, Qupid offers `pattern extraction` using `regex`. The Rotor-Gene pattern is already pre-installed. If you have a different pattern in your files, please, post an [issue on github](https://github.com/NoahHenrikKleinschmidt/qpcr-Analyser/issues) about it and provide some examples. Note, however, that the assay pattern input is not strictly required.\n",
    "\n",
    "The `assay column`, however, **is** required. This is the data column in which your assay headers appear. They all have to be in the same column, usually the first column (this is the default settings). Note, the input for assay \"column\" will be interpreted as \"row\" for _transposed_ files. "
   ]
  },
  {
   "cell_type": "markdown",
   "metadata": {},
   "source": [
    "![](./.resources/assay_pattern.png)"
   ]
  },
  {
   "cell_type": "markdown",
   "metadata": {},
   "source": [
    "#### Data-Sheet input\n",
    "If your file contains multiple datasheets, you will be asked if you would like to read **all** of them, or only a single one. You can choose a specific sheet by unchecking the `Read all sheets from my file` box and then choose a sheet from the drop-down menu."
   ]
  },
  {
   "cell_type": "markdown",
   "metadata": {},
   "source": [
    "![](./.resources/multi_sheet1.png)\n",
    "\n",
    "<br>\n",
    "\n",
    "![](./.resources/multi_sheet2.png)"
   ]
  },
  {
   "cell_type": "markdown",
   "metadata": {},
   "source": [
    "### 2.3 Uploading \"Big Table\" files\n",
    "A \"Big Table\" datafile stores all its data in one single datatable. There are three different types of \"Big Tables\" that are supported by Qupid: `horizontal`, `vertical`, and `hybrid`. If you checked out the [Decorator Tutorial](https://github.com/NoahHenrikKleinschmidt/qpcr/blob/main/Examples/8_decorating_datafiles.ipynb) you will have seen examples of all three of them and how they have to be decorated."
   ]
  },
  {
   "cell_type": "markdown",
   "metadata": {},
   "source": [
    "![](./.resources/bigtable_1.png)"
   ]
  },
  {
   "cell_type": "markdown",
   "metadata": {},
   "source": [
    "#### Kind of Big Table\n",
    "Qupid will ask you which kind of Big Table is present in your datafile. After choosing from the three options, you will observe that the inputs below are adjusted. You have seen the kinds of inputs already, so there's nothing new here. In case you are unclear about something, consult the hoverinfo-help that each widget provides."
   ]
  },
  {
   "cell_type": "markdown",
   "metadata": {},
   "source": [
    "![](./.resources/bigtable_kind.png)"
   ]
  },
  {
   "cell_type": "markdown",
   "metadata": {},
   "source": [
    "#### Reading your data\n",
    "Once the setup is finished, you have to hit the `Read my File(s)` button in order to actually import your data.  "
   ]
  },
  {
   "cell_type": "markdown",
   "metadata": {},
   "source": [
    "![](./.resources/readbutton.png)"
   ]
  },
  {
   "cell_type": "markdown",
   "metadata": {},
   "source": [
    "At this point you will either receive a green success message or a red error message.\n",
    "The errors try to be as informative as possible without being too technical, but that's not always possible. Make sure to properly provide appropriate specifics for file reading, and you should be fine. Also make sure to also consider less obvious error sources like the wrong csv delimiter or the wrong assay column. \n",
    "\n",
    "> A Note on \"damaged\" excel files. If you have an `excel` file that produces some \"damaged\" massage when opening it, but excel says it was able to recover or repair the file, it is likely that the file will be unreadable by Qupid! Best copy the data you are interested in to a new file and check if that one is now undamaged. "
   ]
  },
  {
   "cell_type": "markdown",
   "metadata": {},
   "source": [
    "![](./.resources/sucess.png)\n",
    "\n",
    "<br>\n",
    "\n",
    "![](./.resources/fail.png)"
   ]
  },
  {
   "cell_type": "markdown",
   "metadata": {},
   "source": [
    "## 3. Analysis Setup\n",
    "----------------------------------------------------------------\n",
    "Now that the files are properly imported, we can start setting up our actual `Delta-Delta-Ct` analysis. \n",
    "\n",
    "There are essentially two basic settings to select: 1st the kind of `filtering` to perform on your data prior to Delta-Delta-Ct analysis, and 2nd the type of `output figure` you want. However, there are a number of `Advanced Settings` that may be relevant to your analysis as well. "
   ]
  },
  {
   "cell_type": "markdown",
   "metadata": {},
   "source": [
    "![](./.resources/analyse_1.png)"
   ]
  },
  {
   "cell_type": "markdown",
   "metadata": {},
   "source": [
    "### 3.1 Filters\n",
    "Qupid offers two types of filters to vet your input Ct values. Either a _static_ `range filter` which will remove Ct values that lie outside a given range around the median of each replicate group (each qPCR sample), or a dynamic `IQR filter` that does the same but uses the interquartile-range instead a static range. Of course, you can disable filtering as well. Note, filtering may not make much sense for duplicate data, as the range filter may remove groups entirely if the two Ct values are too far apart, while an IQR filter would be unable to remove anything. But there is a significant speed-up by skipping filtering!\n",
    "\n",
    "However, one perk of the filtering is that it produces boxplots showing your raw Ct values before and after filtering. So you can get a nice visualisation of your raw data for free. \n",
    "\n",
    "#### Inclusion Range\n",
    "When choosing a filter you will be able to set a filtering `inclusion range` in the `Advanced Settings`. Any Ct value of any group that does not fall within the range parameters set, will be removed from analysis. "
   ]
  },
  {
   "cell_type": "markdown",
   "metadata": {},
   "source": [
    "![](./.resources/filter.png)"
   ]
  },
  {
   "cell_type": "markdown",
   "metadata": {},
   "source": [
    "### 3.2 Anchor Settings\n",
    "Located in the Advanced Settings is an input for the `anchor`. The `anchor` is simply the assay-internal reference value which is used during `Delta-Ct` computation. By default Qupid will use simply the very first Ct value in your dataset, assuming that your first group is also your reference. However, other options exist. You may probably want to check out the `mean` anchor option, which allows you to reference against the mean of one specific group within your assays. You can check out the different anchor options and which additional inputs appear for each (it's quite intuitive). You can learn more about the anchors [in the qpcr documentation](https://noahhenrikkleinschmidt.github.io/qpcr/index.html#qpcr.Analyser.anchor)."
   ]
  },
  {
   "cell_type": "markdown",
   "metadata": {},
   "source": [
    "![](./.resources/anchor1.png)"
   ]
  },
  {
   "cell_type": "markdown",
   "metadata": {},
   "source": [
    "### 3.3 Running your analysis\n",
    "Once you are happy with your setup you can start the computation. There are three buttons at the bottom of the layout. What they do is pretty self-explanatory from their labels. You can either only compute Delta-Delta-Ct values (which will also produce the replicate boxplot from filtering), or you can only generate the preview figure of the results figure, or you can do both at once. Why is that split anyway? If you wish to use the preview figure but you are not quite happy with its looks this setup allows you to change the plotting settings and then only remake a new figure without having to compute the entire results again."
   ]
  },
  {
   "cell_type": "markdown",
   "metadata": {},
   "source": [
    "![](./.resources/analyse_2.png)"
   ]
  },
  {
   "cell_type": "markdown",
   "metadata": {},
   "source": [
    "### 3.4 Inspecting Results\n",
    "\n",
    "Once Qupid has finished the main computation, it will start presenting the results. If you performed filtering, then the replicate boxplots will be the first to appear in a (closed) expander to the right. Next, you will see an open expander with your preview figure. Right underneath that one is another closed expander where you can inspect the summary table of your results. Finally, you will see some buttons appearing offering different download types for your results. "
   ]
  },
  {
   "cell_type": "markdown",
   "metadata": {},
   "source": [
    "![](./.resources/results_1.png)"
   ]
  },
  {
   "cell_type": "markdown",
   "metadata": {},
   "source": [
    "Since these new elements are probably pretty intuitive to work with we will not go into more detail on how they work."
   ]
  },
  {
   "cell_type": "markdown",
   "metadata": {},
   "source": [
    "## 4. Styling your Preview\n",
    "----------------------------------------------------------------\n",
    "\n",
    "The figure in the expander looks a bit cramped, doesn't it? Well, we can adjust a great number of parameters of the plotting in the Advanced Settings. However, this requires a tiny bit of knowledge of coding and which types of arguments are accepted. You can learn more about the possible arguments to customise your figures [in the qpcr documentation](https://noahhenrikkleinschmidt.github.io/qpcr/Plotters/Plotters.html). \n",
    "\n",
    "If you have an `interactive` figure then you can also adjust sizing, and axis scales etc. dynamically using the hovertools offered by `plotly` (the software used to produce the figures). Go check out how you can customise the figure to your delight. The settings are pretty simple. Note, `static` figure are only customisable through the `Plotting parameters` field in the Advanced Settings. It is suggested that you stick with the interactive figures, they more fun anyway. "
   ]
  },
  {
   "cell_type": "markdown",
   "metadata": {},
   "source": [
    "![](./.resources/plotkwargs1.png)\n",
    "\n",
    "<br>\n",
    "\n",
    "![](./.resources/plotkwargs2.png)"
   ]
  },
  {
   "cell_type": "markdown",
   "metadata": {},
   "source": [
    "## 5. Keeping records\n",
    "----------------------------------------------------------------\n",
    "One final item for this overview. In order to keep a record of what we did to perform our analysis, Qupid stores all its settings in a `Session Log`. You will find at the bottom of your results download buttons one labeled `Download Session Log`. You should really do this because it will tell you how to repeat your computations. It a simple `json` file that can be opened from any text editor. "
   ]
  },
  {
   "cell_type": "markdown",
   "metadata": {},
   "source": [
    "With that we have reached the end of this tutorial. Hopefully, you now feel ready to use Qupid for your own analyses. Good Luck with your research! 🍀"
   ]
  }
 ],
 "metadata": {
  "language_info": {
   "name": "python"
  },
  "orig_nbformat": 4
 },
 "nbformat": 4,
 "nbformat_minor": 2
}
